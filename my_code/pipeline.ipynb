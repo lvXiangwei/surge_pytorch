{
 "cells": [
  {
   "cell_type": "code",
   "execution_count": null,
   "metadata": {},
   "outputs": [],
   "source": [
    "cd /data/home/hejiansu/KT/xiangwei/rec/SIGIR21-SURGE/my_code\n",
    "conda activate surge\n",
    "python sequential.py --data_path /data/home/hejiansu/KT/xiangwei/rec/SIGIR21-SURGE/my_data/taobao_global_small \\\n",
    "                     --save_path /data/home/hejiansu/KT/xiangwei/rec/SIGIR21-SURGE/my_save/\n",
    "                     --dataset taobao_global\n",
    "                     --name [log info]\n",
    "\n",
    "python -m visdom.server -p 8023\n",
    "tensorboard --logdir ../meics/"
   ]
  },
  {
   "attachments": {},
   "cell_type": "markdown",
   "metadata": {},
   "source": [
    "cd /data/home/hejiansu/KT/xiangwei/rec/SIGIR21-SURGE/my_code\n",
    "bash scripts.sh"
   ]
  },
  {
   "attachments": {},
   "cell_type": "markdown",
   "metadata": {},
   "source": [
    "TODO：\n",
    "- 检查结果， git备份\n",
    "- 将问题转化为KT（数据集构建和metric设置）\n",
    "- 可能会有tf转化为pytroch的加速（非必要不重写），首先搭建pipeline"
   ]
  },
  {
   "attachments": {},
   "cell_type": "markdown",
   "metadata": {},
   "source": [
    "- 142 mins"
   ]
  },
  {
   "cell_type": "code",
   "execution_count": null,
   "metadata": {},
   "outputs": [],
   "source": []
  },
  {
   "attachments": {},
   "cell_type": "markdown",
   "metadata": {},
   "source": []
  },
  {
   "cell_type": "code",
   "execution_count": null,
   "metadata": {},
   "outputs": [],
   "source": []
  }
 ],
 "metadata": {
  "kernelspec": {
   "display_name": "surge",
   "language": "python",
   "name": "python3"
  },
  "language_info": {
   "name": "python",
   "version": "3.6.15"
  },
  "orig_nbformat": 4
 },
 "nbformat": 4,
 "nbformat_minor": 2
}
